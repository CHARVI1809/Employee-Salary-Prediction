{
 "cells": [
  {
   "cell_type": "code",
   "execution_count": 1,
   "id": "dff4332c-1e28-48fd-8b4e-b9eee34b75f2",
   "metadata": {},
   "outputs": [],
   "source": [
    "import pandas as pd"
   ]
  },
  {
   "cell_type": "code",
   "execution_count": 2,
   "id": "6a240760-9af4-40f3-a42a-93ecfcaf0543",
   "metadata": {},
   "outputs": [],
   "source": [
    "data=pd.read_csv(r\"C:\\Users\\Charvi\\Downloads\\Salary_Data.csv\")"
   ]
  },
  {
   "cell_type": "code",
   "execution_count": 3,
   "id": "21c79d83-bacb-4e5a-b0ed-42c01386f8c1",
   "metadata": {},
   "outputs": [
    {
     "data": {
      "text/html": [
       "<div>\n",
       "<style scoped>\n",
       "    .dataframe tbody tr th:only-of-type {\n",
       "        vertical-align: middle;\n",
       "    }\n",
       "\n",
       "    .dataframe tbody tr th {\n",
       "        vertical-align: top;\n",
       "    }\n",
       "\n",
       "    .dataframe thead th {\n",
       "        text-align: right;\n",
       "    }\n",
       "</style>\n",
       "<table border=\"1\" class=\"dataframe\">\n",
       "  <thead>\n",
       "    <tr style=\"text-align: right;\">\n",
       "      <th></th>\n",
       "      <th>Age</th>\n",
       "      <th>Gender</th>\n",
       "      <th>Education Level</th>\n",
       "      <th>Job Title</th>\n",
       "      <th>Years of Experience</th>\n",
       "      <th>Salary</th>\n",
       "    </tr>\n",
       "  </thead>\n",
       "  <tbody>\n",
       "    <tr>\n",
       "      <th>0</th>\n",
       "      <td>32.0</td>\n",
       "      <td>Male</td>\n",
       "      <td>Bachelor's</td>\n",
       "      <td>Software Engineer</td>\n",
       "      <td>5.0</td>\n",
       "      <td>90000.0</td>\n",
       "    </tr>\n",
       "    <tr>\n",
       "      <th>1</th>\n",
       "      <td>28.0</td>\n",
       "      <td>Female</td>\n",
       "      <td>Master's</td>\n",
       "      <td>Data Analyst</td>\n",
       "      <td>3.0</td>\n",
       "      <td>65000.0</td>\n",
       "    </tr>\n",
       "    <tr>\n",
       "      <th>2</th>\n",
       "      <td>45.0</td>\n",
       "      <td>Male</td>\n",
       "      <td>PhD</td>\n",
       "      <td>Senior Manager</td>\n",
       "      <td>15.0</td>\n",
       "      <td>150000.0</td>\n",
       "    </tr>\n",
       "    <tr>\n",
       "      <th>3</th>\n",
       "      <td>36.0</td>\n",
       "      <td>Female</td>\n",
       "      <td>Bachelor's</td>\n",
       "      <td>Sales Associate</td>\n",
       "      <td>7.0</td>\n",
       "      <td>60000.0</td>\n",
       "    </tr>\n",
       "    <tr>\n",
       "      <th>4</th>\n",
       "      <td>52.0</td>\n",
       "      <td>Male</td>\n",
       "      <td>Master's</td>\n",
       "      <td>Director</td>\n",
       "      <td>20.0</td>\n",
       "      <td>200000.0</td>\n",
       "    </tr>\n",
       "    <tr>\n",
       "      <th>...</th>\n",
       "      <td>...</td>\n",
       "      <td>...</td>\n",
       "      <td>...</td>\n",
       "      <td>...</td>\n",
       "      <td>...</td>\n",
       "      <td>...</td>\n",
       "    </tr>\n",
       "    <tr>\n",
       "      <th>6699</th>\n",
       "      <td>49.0</td>\n",
       "      <td>Female</td>\n",
       "      <td>PhD</td>\n",
       "      <td>Director of Marketing</td>\n",
       "      <td>20.0</td>\n",
       "      <td>200000.0</td>\n",
       "    </tr>\n",
       "    <tr>\n",
       "      <th>6700</th>\n",
       "      <td>32.0</td>\n",
       "      <td>Male</td>\n",
       "      <td>High School</td>\n",
       "      <td>Sales Associate</td>\n",
       "      <td>3.0</td>\n",
       "      <td>50000.0</td>\n",
       "    </tr>\n",
       "    <tr>\n",
       "      <th>6701</th>\n",
       "      <td>30.0</td>\n",
       "      <td>Female</td>\n",
       "      <td>Bachelor's Degree</td>\n",
       "      <td>Financial Manager</td>\n",
       "      <td>4.0</td>\n",
       "      <td>55000.0</td>\n",
       "    </tr>\n",
       "    <tr>\n",
       "      <th>6702</th>\n",
       "      <td>46.0</td>\n",
       "      <td>Male</td>\n",
       "      <td>Master's Degree</td>\n",
       "      <td>Marketing Manager</td>\n",
       "      <td>14.0</td>\n",
       "      <td>140000.0</td>\n",
       "    </tr>\n",
       "    <tr>\n",
       "      <th>6703</th>\n",
       "      <td>26.0</td>\n",
       "      <td>Female</td>\n",
       "      <td>High School</td>\n",
       "      <td>Sales Executive</td>\n",
       "      <td>1.0</td>\n",
       "      <td>35000.0</td>\n",
       "    </tr>\n",
       "  </tbody>\n",
       "</table>\n",
       "<p>6704 rows × 6 columns</p>\n",
       "</div>"
      ],
      "text/plain": [
       "       Age  Gender    Education Level              Job Title  \\\n",
       "0     32.0    Male         Bachelor's      Software Engineer   \n",
       "1     28.0  Female           Master's           Data Analyst   \n",
       "2     45.0    Male                PhD         Senior Manager   \n",
       "3     36.0  Female         Bachelor's        Sales Associate   \n",
       "4     52.0    Male           Master's               Director   \n",
       "...    ...     ...                ...                    ...   \n",
       "6699  49.0  Female                PhD  Director of Marketing   \n",
       "6700  32.0    Male        High School        Sales Associate   \n",
       "6701  30.0  Female  Bachelor's Degree      Financial Manager   \n",
       "6702  46.0    Male    Master's Degree      Marketing Manager   \n",
       "6703  26.0  Female        High School        Sales Executive   \n",
       "\n",
       "      Years of Experience    Salary  \n",
       "0                     5.0   90000.0  \n",
       "1                     3.0   65000.0  \n",
       "2                    15.0  150000.0  \n",
       "3                     7.0   60000.0  \n",
       "4                    20.0  200000.0  \n",
       "...                   ...       ...  \n",
       "6699                 20.0  200000.0  \n",
       "6700                  3.0   50000.0  \n",
       "6701                  4.0   55000.0  \n",
       "6702                 14.0  140000.0  \n",
       "6703                  1.0   35000.0  \n",
       "\n",
       "[6704 rows x 6 columns]"
      ]
     },
     "execution_count": 3,
     "metadata": {},
     "output_type": "execute_result"
    }
   ],
   "source": [
    "data"
   ]
  },
  {
   "cell_type": "code",
   "execution_count": 4,
   "id": "82568a1f-9c33-4fd5-bddb-41fda3a43ba8",
   "metadata": {},
   "outputs": [
    {
     "data": {
      "text/plain": [
       "(6704, 6)"
      ]
     },
     "execution_count": 4,
     "metadata": {},
     "output_type": "execute_result"
    }
   ],
   "source": [
    "data.shape"
   ]
  },
  {
   "cell_type": "code",
   "execution_count": 5,
   "id": "b6f1666a-5748-4746-ac97-8a5ef12eea9c",
   "metadata": {},
   "outputs": [
    {
     "data": {
      "text/html": [
       "<div>\n",
       "<style scoped>\n",
       "    .dataframe tbody tr th:only-of-type {\n",
       "        vertical-align: middle;\n",
       "    }\n",
       "\n",
       "    .dataframe tbody tr th {\n",
       "        vertical-align: top;\n",
       "    }\n",
       "\n",
       "    .dataframe thead th {\n",
       "        text-align: right;\n",
       "    }\n",
       "</style>\n",
       "<table border=\"1\" class=\"dataframe\">\n",
       "  <thead>\n",
       "    <tr style=\"text-align: right;\">\n",
       "      <th></th>\n",
       "      <th>Age</th>\n",
       "      <th>Gender</th>\n",
       "      <th>Education Level</th>\n",
       "      <th>Job Title</th>\n",
       "      <th>Years of Experience</th>\n",
       "      <th>Salary</th>\n",
       "    </tr>\n",
       "  </thead>\n",
       "  <tbody>\n",
       "    <tr>\n",
       "      <th>0</th>\n",
       "      <td>False</td>\n",
       "      <td>False</td>\n",
       "      <td>False</td>\n",
       "      <td>False</td>\n",
       "      <td>False</td>\n",
       "      <td>False</td>\n",
       "    </tr>\n",
       "    <tr>\n",
       "      <th>1</th>\n",
       "      <td>False</td>\n",
       "      <td>False</td>\n",
       "      <td>False</td>\n",
       "      <td>False</td>\n",
       "      <td>False</td>\n",
       "      <td>False</td>\n",
       "    </tr>\n",
       "    <tr>\n",
       "      <th>2</th>\n",
       "      <td>False</td>\n",
       "      <td>False</td>\n",
       "      <td>False</td>\n",
       "      <td>False</td>\n",
       "      <td>False</td>\n",
       "      <td>False</td>\n",
       "    </tr>\n",
       "    <tr>\n",
       "      <th>3</th>\n",
       "      <td>False</td>\n",
       "      <td>False</td>\n",
       "      <td>False</td>\n",
       "      <td>False</td>\n",
       "      <td>False</td>\n",
       "      <td>False</td>\n",
       "    </tr>\n",
       "    <tr>\n",
       "      <th>4</th>\n",
       "      <td>False</td>\n",
       "      <td>False</td>\n",
       "      <td>False</td>\n",
       "      <td>False</td>\n",
       "      <td>False</td>\n",
       "      <td>False</td>\n",
       "    </tr>\n",
       "    <tr>\n",
       "      <th>...</th>\n",
       "      <td>...</td>\n",
       "      <td>...</td>\n",
       "      <td>...</td>\n",
       "      <td>...</td>\n",
       "      <td>...</td>\n",
       "      <td>...</td>\n",
       "    </tr>\n",
       "    <tr>\n",
       "      <th>6699</th>\n",
       "      <td>False</td>\n",
       "      <td>False</td>\n",
       "      <td>False</td>\n",
       "      <td>False</td>\n",
       "      <td>False</td>\n",
       "      <td>False</td>\n",
       "    </tr>\n",
       "    <tr>\n",
       "      <th>6700</th>\n",
       "      <td>False</td>\n",
       "      <td>False</td>\n",
       "      <td>False</td>\n",
       "      <td>False</td>\n",
       "      <td>False</td>\n",
       "      <td>False</td>\n",
       "    </tr>\n",
       "    <tr>\n",
       "      <th>6701</th>\n",
       "      <td>False</td>\n",
       "      <td>False</td>\n",
       "      <td>False</td>\n",
       "      <td>False</td>\n",
       "      <td>False</td>\n",
       "      <td>False</td>\n",
       "    </tr>\n",
       "    <tr>\n",
       "      <th>6702</th>\n",
       "      <td>False</td>\n",
       "      <td>False</td>\n",
       "      <td>False</td>\n",
       "      <td>False</td>\n",
       "      <td>False</td>\n",
       "      <td>False</td>\n",
       "    </tr>\n",
       "    <tr>\n",
       "      <th>6703</th>\n",
       "      <td>False</td>\n",
       "      <td>False</td>\n",
       "      <td>False</td>\n",
       "      <td>False</td>\n",
       "      <td>False</td>\n",
       "      <td>False</td>\n",
       "    </tr>\n",
       "  </tbody>\n",
       "</table>\n",
       "<p>6704 rows × 6 columns</p>\n",
       "</div>"
      ],
      "text/plain": [
       "        Age  Gender  Education Level  Job Title  Years of Experience  Salary\n",
       "0     False   False            False      False                False   False\n",
       "1     False   False            False      False                False   False\n",
       "2     False   False            False      False                False   False\n",
       "3     False   False            False      False                False   False\n",
       "4     False   False            False      False                False   False\n",
       "...     ...     ...              ...        ...                  ...     ...\n",
       "6699  False   False            False      False                False   False\n",
       "6700  False   False            False      False                False   False\n",
       "6701  False   False            False      False                False   False\n",
       "6702  False   False            False      False                False   False\n",
       "6703  False   False            False      False                False   False\n",
       "\n",
       "[6704 rows x 6 columns]"
      ]
     },
     "execution_count": 5,
     "metadata": {},
     "output_type": "execute_result"
    }
   ],
   "source": [
    "#finding null values\n",
    "data.isna() #is there any null set is availabe"
   ]
  },
  {
   "cell_type": "code",
   "execution_count": 6,
   "id": "cef7b528-2034-4833-aff3-40928b5d54c8",
   "metadata": {},
   "outputs": [
    {
     "data": {
      "text/plain": [
       "Age                    2\n",
       "Gender                 2\n",
       "Education Level        3\n",
       "Job Title              2\n",
       "Years of Experience    3\n",
       "Salary                 5\n",
       "dtype: int64"
      ]
     },
     "execution_count": 6,
     "metadata": {},
     "output_type": "execute_result"
    }
   ],
   "source": [
    "data.isna().sum() #how may null values in each feature"
   ]
  },
  {
   "cell_type": "code",
   "execution_count": 7,
   "id": "1562ba8d-18b9-4b7e-a4d8-54a8528be8d1",
   "metadata": {},
   "outputs": [],
   "source": [
    "data.dropna(inplace=True)  # drops rows with any null values"
   ]
  },
  {
   "cell_type": "code",
   "execution_count": 8,
   "id": "5c0cecfe-8708-495c-8a75-7d58af440108",
   "metadata": {},
   "outputs": [
    {
     "data": {
      "text/plain": [
       "Age                    0\n",
       "Gender                 0\n",
       "Education Level        0\n",
       "Job Title              0\n",
       "Years of Experience    0\n",
       "Salary                 0\n",
       "dtype: int64"
      ]
     },
     "execution_count": 8,
     "metadata": {},
     "output_type": "execute_result"
    }
   ],
   "source": [
    "data.isna().sum()"
   ]
  },
  {
   "cell_type": "code",
   "execution_count": 9,
   "id": "727f21b8-bb80-47e8-8fb9-c6675363676c",
   "metadata": {},
   "outputs": [
    {
     "data": {
      "text/plain": [
       "(6698, 6)"
      ]
     },
     "execution_count": 9,
     "metadata": {},
     "output_type": "execute_result"
    }
   ],
   "source": [
    "data.shape"
   ]
  },
  {
   "cell_type": "code",
   "execution_count": 10,
   "id": "79d7d178-501d-4701-bdad-f3b5e1826bc6",
   "metadata": {},
   "outputs": [
    {
     "data": {
      "image/png": "[encoded data removed]",
      "text/plain": [
       "<Figure size 640x480 with 1 Axes>"
      ]
     },
     "metadata": {},
     "output_type": "display_data"
    }
   ],
   "source": [
    "#outlier detection\n",
    "import matplotlib.pyplot as plt   #visualization\n",
    "plt.boxplot(data['Age'])\n",
    "plt.show() "
   ]
  },
  {
   "cell_type": "code",
   "execution_count": 11,
   "id": "40010802-be5f-4da8-b7c3-a04bc07a3f57",
   "metadata": {},
   "outputs": [
    {
     "data": {
      "image/png": "[encoded data removed]",
      "text/plain": [
       "<Figure size 640x480 with 1 Axes>"
      ]
     },
     "metadata": {},
     "output_type": "display_data"
    }
   ],
   "source": [
    "data=data[(data['Age']<=50)]\n",
    "plt.boxplot(data['Age'])\n",
    "plt.show()"
   ]
  },
  {
   "cell_type": "code",
   "execution_count": 12,
   "id": "7c0a4203-5be0-4f17-b877-2558c2b697a8",
   "metadata": {},
   "outputs": [
    {
     "data": {
      "image/png": "[encoded data removed]",
      "text/plain": [
       "<Figure size 640x480 with 1 Axes>"
      ]
     },
     "metadata": {},
     "output_type": "display_data"
    }
   ],
   "source": [
    "import matplotlib.pyplot as plt   #visualization\n",
    "plt.boxplot(data['Years of Experience'])\n",
    "plt.show() "
   ]
  },
  {
   "cell_type": "code",
   "execution_count": 13,
   "id": "215fadd0-723b-4743-92a3-b2dd6b748ba1",
   "metadata": {},
   "outputs": [
    {
     "data": {
      "image/png": "[encoded data removed]",
      "text/plain": [
       "<Figure size 640x480 with 1 Axes>"
      ]
     },
     "metadata": {},
     "output_type": "display_data"
    }
   ],
   "source": [
    "data=data[(data['Years of Experience']<=23)]\n",
    "plt.boxplot(data['Years of Experience'])\n",
    "plt.show() "
   ]
  },
  {
   "cell_type": "code",
   "execution_count": 14,
   "id": "31f0490e-23cc-47ad-bae5-b8ff256053cf",
   "metadata": {},
   "outputs": [
    {
     "data": {
      "text/plain": [
       "(6485, 6)"
      ]
     },
     "execution_count": 14,
     "metadata": {},
     "output_type": "execute_result"
    }
   ],
   "source": [
    "data.shape"
   ]
  },
  {
   "cell_type": "code",
   "execution_count": 15,
   "id": "45469784-d8b3-46ff-9780-f152729f9e9c",
   "metadata": {},
   "outputs": [
    {
     "name": "stdout",
     "output_type": "stream",
     "text": [
      "Education Level\n",
      "Bachelor's Degree    2241\n",
      "Master's Degree      1533\n",
      "PhD                  1234\n",
      "Bachelor's            753\n",
      "High School           440\n",
      "Master's              283\n",
      "phD                     1\n",
      "Name: count, dtype: int64\n"
     ]
    }
   ],
   "source": [
    "print(data['Education Level'].value_counts())"
   ]
  },
  {
   "cell_type": "code",
   "execution_count": 16,
   "id": "a9278559-8e8a-4cc3-a802-81b2b601c0cd",
   "metadata": {},
   "outputs": [
    {
     "name": "stdout",
     "output_type": "stream",
     "text": [
      "Education Level\n",
      "Bachelor's     2994\n",
      "Master's       1816\n",
      "PhD            1235\n",
      "High School     440\n",
      "Name: count, dtype: int64\n"
     ]
    }
   ],
   "source": [
    "# Combine similar education levels\n",
    "data['Education Level'] = data['Education Level'].replace({\n",
    "    \"Bachelor's Degree\": \"Bachelor's\",\n",
    "    \"Master's Degree\": \"Master's\",\n",
    "    \"phD\": \"PhD\"\n",
    "})\n",
    "print(data['Education Level'].value_counts())\n"
   ]
  },
  {
   "cell_type": "code",
   "execution_count": 17,
   "id": "137393d9-8945-4f2e-ae63-580c408b32f9",
   "metadata": {},
   "outputs": [
    {
     "name": "stdout",
     "output_type": "stream",
     "text": [
      "Gender\n",
      "Male      3526\n",
      "Female    2951\n",
      "Other        8\n",
      "Name: count, dtype: int64\n"
     ]
    }
   ],
   "source": [
    "print(data['Gender'].value_counts())"
   ]
  },
  {
   "cell_type": "code",
   "execution_count": 18,
   "id": "a5894af4-41e0-4f93-9447-6d17fa5d28cb",
   "metadata": {},
   "outputs": [
    {
     "name": "stdout",
     "output_type": "stream",
     "text": [
      "Gender\n",
      "Male      3526\n",
      "Female    2951\n",
      "Name: count, dtype: int64\n"
     ]
    }
   ],
   "source": [
    "data=data[data['Gender']!= 'Other']\n",
    "print(data.Gender.value_counts())"
   ]
  },
  {
   "cell_type": "code",
   "execution_count": 19,
   "id": "bfd12666-7cf1-4e61-b9b9-95ca0a64acc2",
   "metadata": {},
   "outputs": [
    {
     "name": "stdout",
     "output_type": "stream",
     "text": [
      "Job Title\n",
      "Software Engineer                518\n",
      "Data Scientist                   445\n",
      "Data Analyst                     363\n",
      "Product Manager                  313\n",
      "Senior Project Engineer          293\n",
      "                                ... \n",
      "Account Manager                    1\n",
      "Help Desk Analyst                  1\n",
      "Business Intelligence Analyst      1\n",
      "VP of Finance                      1\n",
      "Principal Engineer                 1\n",
      "Name: count, Length: 187, dtype: int64\n"
     ]
    }
   ],
   "source": [
    "print(data['Job Title'].value_counts())"
   ]
  },
  {
   "cell_type": "code",
   "execution_count": 20,
   "id": "cf25cfd9-57a2-4e23-b103-b4ca25c53ab0",
   "metadata": {},
   "outputs": [],
   "source": [
    "# Split features and target\n",
    "X = data.drop(columns=['Salary'])\n",
    "y = data['Salary']"
   ]
  },
  {
   "cell_type": "code",
   "execution_count": 21,
   "id": "290767cb-b5e2-47f3-8dcb-34f939310944",
   "metadata": {},
   "outputs": [],
   "source": [
    "from sklearn.pipeline import Pipeline\n",
    "from sklearn.compose import ColumnTransformer\n",
    "from sklearn.preprocessing import OneHotEncoder, StandardScaler\n",
    "from sklearn.ensemble import RandomForestRegressor, GradientBoostingRegressor, AdaBoostRegressor\n",
    "from sklearn.linear_model import LinearRegression, Ridge\n",
    "from sklearn.tree import DecisionTreeRegressor\n",
    "from sklearn.neighbors import KNeighborsRegressor\n",
    "from sklearn.svm import SVR\n",
    "from sklearn.metrics import r2_score, mean_absolute_error, mean_squared_error\n",
    "import numpy as np\n",
    "\n",
    "# Define features\n",
    "categorical = ['Gender', 'Education Level', 'Job Title']\n",
    "numeric = ['Age', 'Years of Experience']\n",
    "\n",
    "# Preprocessing pipeline\n",
    "preprocessor = ColumnTransformer(transformers=[\n",
    "    ('cat', OneHotEncoder(handle_unknown='ignore'), categorical),\n",
    "    ('num', StandardScaler(), numeric)  # numeric data is dense so safe to center\n",
    "])\n",
    "\n",
    "# Define models (no nested scalers here!)\n",
    "models = {\n",
    "    \"LinearRegression\": LinearRegression(),\n",
    "    \"Ridge\": Ridge(),\n",
    "    \"RandomForest\": RandomForestRegressor(),\n",
    "    \"GradientBoosting\": GradientBoostingRegressor(),\n",
    "    \"AdaBoost\": AdaBoostRegressor(),\n",
    "    \"DecisionTree\": DecisionTreeRegressor(),\n",
    "    \"KNN\": KNeighborsRegressor(),\n",
    "    \"SVR\": SVR(),\n",
    "}"
   ]
  },
  {
   "cell_type": "code",
   "execution_count": 22,
   "id": "bc222152-6c66-414e-8e3e-e56ed6e69970",
   "metadata": {},
   "outputs": [
    {
     "data": {
      "text/html": [
       "<div>\n",
       "<style scoped>\n",
       "    .dataframe tbody tr th:only-of-type {\n",
       "        vertical-align: middle;\n",
       "    }\n",
       "\n",
       "    .dataframe tbody tr th {\n",
       "        vertical-align: top;\n",
       "    }\n",
       "\n",
       "    .dataframe thead th {\n",
       "        text-align: right;\n",
       "    }\n",
       "</style>\n",
       "<table border=\"1\" class=\"dataframe\">\n",
       "  <thead>\n",
       "    <tr style=\"text-align: right;\">\n",
       "      <th></th>\n",
       "      <th>Age</th>\n",
       "      <th>Gender</th>\n",
       "      <th>Education Level</th>\n",
       "      <th>Job Title</th>\n",
       "      <th>Years of Experience</th>\n",
       "    </tr>\n",
       "  </thead>\n",
       "  <tbody>\n",
       "    <tr>\n",
       "      <th>3189</th>\n",
       "      <td>35.0</td>\n",
       "      <td>Female</td>\n",
       "      <td>Master's</td>\n",
       "      <td>Data Analyst</td>\n",
       "      <td>9.0</td>\n",
       "    </tr>\n",
       "    <tr>\n",
       "      <th>6261</th>\n",
       "      <td>45.0</td>\n",
       "      <td>Female</td>\n",
       "      <td>Master's</td>\n",
       "      <td>Sales Manager</td>\n",
       "      <td>8.0</td>\n",
       "    </tr>\n",
       "    <tr>\n",
       "      <th>305</th>\n",
       "      <td>36.0</td>\n",
       "      <td>Male</td>\n",
       "      <td>Bachelor's</td>\n",
       "      <td>Senior Business Analyst</td>\n",
       "      <td>8.0</td>\n",
       "    </tr>\n",
       "    <tr>\n",
       "      <th>6558</th>\n",
       "      <td>27.0</td>\n",
       "      <td>Male</td>\n",
       "      <td>PhD</td>\n",
       "      <td>Marketing Manager</td>\n",
       "      <td>4.0</td>\n",
       "    </tr>\n",
       "    <tr>\n",
       "      <th>457</th>\n",
       "      <td>31.0</td>\n",
       "      <td>Female</td>\n",
       "      <td>Bachelor's</td>\n",
       "      <td>Software Engineer</td>\n",
       "      <td>6.0</td>\n",
       "    </tr>\n",
       "    <tr>\n",
       "      <th>...</th>\n",
       "      <td>...</td>\n",
       "      <td>...</td>\n",
       "      <td>...</td>\n",
       "      <td>...</td>\n",
       "      <td>...</td>\n",
       "    </tr>\n",
       "    <tr>\n",
       "      <th>3980</th>\n",
       "      <td>33.0</td>\n",
       "      <td>Male</td>\n",
       "      <td>Bachelor's</td>\n",
       "      <td>Operations Manager</td>\n",
       "      <td>7.0</td>\n",
       "    </tr>\n",
       "    <tr>\n",
       "      <th>5408</th>\n",
       "      <td>29.0</td>\n",
       "      <td>Female</td>\n",
       "      <td>Bachelor's</td>\n",
       "      <td>Digital Marketing Specialist</td>\n",
       "      <td>4.0</td>\n",
       "    </tr>\n",
       "    <tr>\n",
       "      <th>5443</th>\n",
       "      <td>37.0</td>\n",
       "      <td>Male</td>\n",
       "      <td>Bachelor's</td>\n",
       "      <td>Product Manager</td>\n",
       "      <td>13.0</td>\n",
       "    </tr>\n",
       "    <tr>\n",
       "      <th>5607</th>\n",
       "      <td>32.0</td>\n",
       "      <td>Male</td>\n",
       "      <td>Bachelor's</td>\n",
       "      <td>Product Manager</td>\n",
       "      <td>7.0</td>\n",
       "    </tr>\n",
       "    <tr>\n",
       "      <th>872</th>\n",
       "      <td>25.0</td>\n",
       "      <td>Female</td>\n",
       "      <td>Bachelor's</td>\n",
       "      <td>Data Analyst</td>\n",
       "      <td>2.0</td>\n",
       "    </tr>\n",
       "  </tbody>\n",
       "</table>\n",
       "<p>5181 rows × 5 columns</p>\n",
       "</div>"
      ],
      "text/plain": [
       "       Age  Gender Education Level                     Job Title  \\\n",
       "3189  35.0  Female        Master's                  Data Analyst   \n",
       "6261  45.0  Female        Master's                 Sales Manager   \n",
       "305   36.0    Male      Bachelor's       Senior Business Analyst   \n",
       "6558  27.0    Male             PhD             Marketing Manager   \n",
       "457   31.0  Female      Bachelor's             Software Engineer   \n",
       "...    ...     ...             ...                           ...   \n",
       "3980  33.0    Male      Bachelor's            Operations Manager   \n",
       "5408  29.0  Female      Bachelor's  Digital Marketing Specialist   \n",
       "5443  37.0    Male      Bachelor's               Product Manager   \n",
       "5607  32.0    Male      Bachelor's               Product Manager   \n",
       "872   25.0  Female      Bachelor's                  Data Analyst   \n",
       "\n",
       "      Years of Experience  \n",
       "3189                  9.0  \n",
       "6261                  8.0  \n",
       "305                   8.0  \n",
       "6558                  4.0  \n",
       "457                   6.0  \n",
       "...                   ...  \n",
       "3980                  7.0  \n",
       "5408                  4.0  \n",
       "5443                 13.0  \n",
       "5607                  7.0  \n",
       "872                   2.0  \n",
       "\n",
       "[5181 rows x 5 columns]"
      ]
     },
     "execution_count": 22,
     "metadata": {},
     "output_type": "execute_result"
    }
   ],
   "source": [
    "# Train-test split\n",
    "from sklearn.model_selection import train_test_split\n",
    "X_train, X_test, y_train, y_test = train_test_split(X, y, test_size=0.2, random_state=42)\n",
    "X_train\n"
   ]
  },
  {
   "cell_type": "code",
   "execution_count": 23,
   "id": "b94ec17d-6762-4aa8-a220-d2d3b99e13c8",
   "metadata": {},
   "outputs": [
    {
     "name": "stdout",
     "output_type": "stream",
     "text": [
      "\n",
      "LinearRegression\n",
      "R2 Score: 0.8451362141633496\n",
      "MAE: 14849.929875574393\n",
      "RMSE: 20184.85972115555\n",
      "\n",
      "Ridge\n",
      "R2 Score: 0.8455096793550669\n",
      "MAE: 14834.788976259564\n",
      "RMSE: 20160.50640715337\n",
      "\n",
      "RandomForest\n",
      "R2 Score: 0.9705961570779233\n",
      "MAE: 3389.4364893848056\n",
      "RMSE: 8795.344334557689\n",
      "\n",
      "GradientBoosting\n",
      "R2 Score: 0.9012973019409752\n",
      "MAE: 12146.399838841025\n",
      "RMSE: 16114.443488084567\n",
      "\n",
      "AdaBoost\n",
      "R2 Score: 0.7740728969250278\n",
      "MAE: 20878.583796497987\n",
      "RMSE: 24380.07102052424\n",
      "\n",
      "DecisionTree\n",
      "R2 Score: 0.9650352085788677\n",
      "MAE: 3246.8399646845173\n",
      "RMSE: 9591.0525494114\n",
      "\n",
      "KNN\n",
      "R2 Score: 0.9500387777526533\n",
      "MAE: 5057.035185185185\n",
      "RMSE: 11464.822274440463\n",
      "\n",
      "SVR\n",
      "R2 Score: 0.011889269417681536\n",
      "MAE: 43962.33172438056\n",
      "RMSE: 50986.31295907179\n"
     ]
    }
   ],
   "source": [
    "\n",
    "# Dictionary to store R² scores for each model\n",
    "r2_scores = {}\n",
    "\n",
    "# Train and evaluate each model\n",
    "for name, reg_model in models.items():\n",
    "    pipeline = Pipeline([\n",
    "        ('preprocessor', preprocessor),\n",
    "        ('regressor', reg_model)\n",
    "    ])\n",
    "    \n",
    "    pipeline.fit(X_train, y_train)\n",
    "    preds = pipeline.predict(X_test)\n",
    "\n",
    "    r2 = r2_score(y_test, preds)\n",
    "    r2_scores[name] = r2  # Store R² score\n",
    "\n",
    "    print(f\"\\n{name}\")\n",
    "    print(\"R2 Score:\", r2)\n",
    "    print(\"MAE:\", mean_absolute_error(y_test, preds))\n",
    "    print(\"RMSE:\", np.sqrt(mean_squared_error(y_test, preds)))\n",
    "\n",
    "\n",
    "\n"
   ]
  },
  {
   "cell_type": "code",
   "execution_count": 24,
   "id": "f670276e-fe85-42bb-9588-576204520fdf",
   "metadata": {},
   "outputs": [
    {
     "data": {
      "image/png": "[encoded data removed]",
      "text/plain": [
       "<Figure size 500x400 with 1 Axes>"
      ]
     },
     "metadata": {},
     "output_type": "display_data"
    }
   ],
   "source": [
    "# Plotting the R² Score Comparison\n",
    "import matplotlib.pyplot as plt\n",
    "plt.figure(figsize=(5, 4))\n",
    "plt.bar(r2_scores.keys(), r2_scores.values(), color='skyblue')\n",
    "plt.xticks(rotation=90)\n",
    "plt.xlabel(\"Regressor\")\n",
    "plt.ylabel(\"R² Score\")\n",
    "plt.title(\"Comparison of R² Score for Different Regressors\")\n",
    "plt.tight_layout()\n",
    "plt.show()"
   ]
  },
  {
   "cell_type": "code",
   "execution_count": 25,
   "id": "489eb0b0-6b32-4ef4-b773-1db6e11078e1",
   "metadata": {},
   "outputs": [
    {
     "name": "stdout",
     "output_type": "stream",
     "text": [
      "Best model saved successfully as best_salary_model.pkl\n"
     ]
    }
   ],
   "source": [
    "#Continuing with random forest regressor\n",
    "import joblib\n",
    "from sklearn.pipeline import Pipeline\n",
    "\n",
    "# Wrap your best model in a pipeline\n",
    "best_model_pipeline = Pipeline([\n",
    "    ('preprocessor', preprocessor),\n",
    "    ('regressor', RandomForestRegressor(n_estimators=100, max_depth=None))\n",
    "])\n",
    "\n",
    "# Fit the pipeline on the full data (X and y)\n",
    "best_model_pipeline.fit(X, y)\n",
    "\n",
    "# Save the whole pipeline\n",
    "joblib.dump(best_model_pipeline, \"best_salary_model.pkl\")\n",
    "print(\"Best model saved successfully as best_salary_model.pkl\")\n",
    "\n",
    "\n",
    "\n"
   ]
  },
  {
   "cell_type": "code",
   "execution_count": 26,
   "id": "7731efc6-195a-44f5-b88b-c6ebc9cd07dc",
   "metadata": {},
   "outputs": [
    {
     "name": "stdout",
     "output_type": "stream",
     "text": [
      "Column: Age\n",
      "[32. 28. 45. 36. 29. 42. 31. 26. 38. 48. 35. 40. 27. 44. 33. 39. 25. 34.\n",
      " 47. 30. 41. 37. 24. 43. 46. 49. 50. 23. 22. 21.]\n",
      "\n",
      "\n",
      "Column: Gender\n",
      "['Male' 'Female']\n",
      "\n",
      "\n",
      "Column: Education Level\n",
      "[\"Bachelor's\" \"Master's\" 'PhD' 'High School']\n",
      "\n",
      "\n",
      "Column: Job Title\n",
      "['Software Engineer' 'Data Analyst' 'Senior Manager' 'Sales Associate'\n",
      " 'Marketing Analyst' 'Product Manager' 'Sales Manager'\n",
      " 'Marketing Coordinator' 'Senior Scientist' 'Software Developer'\n",
      " 'HR Manager' 'Financial Analyst' 'Project Manager' 'Customer Service Rep'\n",
      " 'Operations Manager' 'Marketing Manager' 'Senior Engineer'\n",
      " 'Data Entry Clerk' 'Business Analyst' 'VP of Operations' 'IT Support'\n",
      " 'Recruiter' 'Financial Manager' 'Social Media Specialist'\n",
      " 'Software Manager' 'Junior Developer' 'Senior Consultant'\n",
      " 'Product Designer' 'Accountant' 'Data Scientist' 'Marketing Specialist'\n",
      " 'Technical Writer' 'HR Generalist' 'Project Engineer'\n",
      " 'Customer Success Rep' 'Sales Executive' 'UX Designer'\n",
      " 'Operations Director' 'Network Engineer' 'Administrative Assistant'\n",
      " 'Strategy Consultant' 'Copywriter' 'Account Manager'\n",
      " 'Director of Marketing' 'Help Desk Analyst'\n",
      " 'Business Intelligence Analyst' 'Event Coordinator' 'VP of Finance'\n",
      " 'Graphic Designer' 'UX Researcher' 'Social Media Manager'\n",
      " 'Senior Data Scientist' 'Junior Accountant' 'Digital Marketing Manager'\n",
      " 'IT Manager' 'Customer Service Representative'\n",
      " 'Business Development Manager' 'Senior Financial Analyst' 'Web Developer'\n",
      " 'Research Director' 'Technical Support Specialist' 'Creative Director'\n",
      " 'Senior Software Engineer' 'Human Resources Director'\n",
      " 'Content Marketing Manager' 'Technical Recruiter' 'Sales Representative'\n",
      " 'Junior Designer' 'Financial Advisor' 'Junior Account Manager'\n",
      " 'Senior Project Manager' 'Principal Scientist' 'Supply Chain Manager'\n",
      " 'Training Specialist' 'Research Scientist' 'Junior Software Developer'\n",
      " 'Public Relations Manager' 'Operations Analyst'\n",
      " 'Product Marketing Manager' 'Senior HR Manager' 'Junior Web Developer'\n",
      " 'Senior Project Coordinator' 'Chief Data Officer'\n",
      " 'Digital Content Producer' 'IT Support Specialist'\n",
      " 'Senior Marketing Analyst' 'Customer Success Manager'\n",
      " 'Senior Graphic Designer' 'Software Project Manager'\n",
      " 'Supply Chain Analyst' 'Senior Business Analyst'\n",
      " 'Junior Marketing Analyst' 'Office Manager' 'Principal Engineer'\n",
      " 'Junior HR Generalist' 'Senior Product Manager'\n",
      " 'Junior Operations Analyst' 'Customer Service Manager'\n",
      " 'Senior HR Generalist' 'Sales Operations Manager'\n",
      " 'Senior Software Developer' 'Director of Operations'\n",
      " 'Junior Web Designer' 'Senior Training Specialist'\n",
      " 'Senior Research Scientist' 'Junior Sales Representative'\n",
      " 'Junior Marketing Manager' 'Junior Data Analyst'\n",
      " 'Senior Product Marketing Manager' 'Junior Business Analyst'\n",
      " 'Senior Marketing Manager' 'Senior Sales Manager'\n",
      " 'Junior Marketing Specialist' 'Junior Project Manager'\n",
      " 'Senior Accountant' 'Director of Sales' 'Junior Recruiter'\n",
      " 'Senior Business Development Manager' 'Senior Product Designer'\n",
      " 'Junior Customer Support Specialist' 'Senior IT Support Specialist'\n",
      " 'Junior Financial Analyst' 'Senior Operations Manager'\n",
      " 'Junior Software Engineer' 'Senior Sales Representative'\n",
      " 'Director of Product Management' 'Junior Copywriter'\n",
      " 'Senior Marketing Coordinator' 'Senior Human Resources Manager'\n",
      " 'Junior Business Development Associate' 'Senior Account Manager'\n",
      " 'Senior Researcher' 'Junior HR Coordinator' 'Director of Finance'\n",
      " 'Junior Marketing Coordinator' 'Junior Data Scientist'\n",
      " 'Senior Operations Analyst' 'Senior Human Resources Coordinator'\n",
      " 'Senior UX Designer' 'Junior Product Manager'\n",
      " 'Senior Marketing Specialist' 'Senior IT Project Manager'\n",
      " 'Senior Quality Assurance Analyst' 'Director of Sales and Marketing'\n",
      " 'Senior Account Executive' 'Director of Business Development'\n",
      " 'Junior Social Media Manager' 'Senior Human Resources Specialist'\n",
      " 'Senior Data Analyst' 'Director of Human Capital'\n",
      " 'Junior Advertising Coordinator' 'Junior UX Designer'\n",
      " 'Senior Marketing Director' 'Senior IT Consultant'\n",
      " 'Senior Financial Advisor' 'Junior Business Operations Analyst'\n",
      " 'Junior Social Media Specialist' 'Senior Product Development Manager'\n",
      " 'Junior Operations Manager' 'Senior Software Architect'\n",
      " 'Junior Research Scientist' 'Senior Financial Manager'\n",
      " 'Senior HR Specialist' 'Senior Data Engineer'\n",
      " 'Junior Operations Coordinator' 'Director of HR'\n",
      " 'Senior Operations Coordinator' 'Junior Financial Advisor'\n",
      " 'Director of Engineering' 'Software Engineer Manager'\n",
      " 'Back end Developer' 'Senior Project Engineer' 'Full Stack Engineer'\n",
      " 'Front end Developer' 'Front End Developer' 'Director of Data Science'\n",
      " 'Human Resources Coordinator' 'Junior Sales Associate'\n",
      " 'Human Resources Manager' 'Juniour HR Generalist'\n",
      " 'Juniour HR Coordinator' 'Sales Director' 'Digital Marketing Specialist'\n",
      " 'Receptionist' 'Marketing Director' 'Social Media Man' 'Delivery Driver']\n",
      "\n",
      "\n",
      "Column: Years of Experience\n",
      "[ 5.   3.  15.   7.   2.  12.   4.   1.  10.  18.   6.  14.  16.   0.\n",
      " 19.   9.  13.  11.  20.  21.   8.  17.  22.   0.5  1.5 23. ]\n",
      "\n",
      "\n",
      "Column: Salary\n",
      "[ 90000.  65000. 150000.  60000.  55000. 120000.  80000.  45000. 110000.\n",
      "  75000. 140000. 130000.  40000. 125000. 115000.  35000. 190000.  50000.\n",
      " 170000. 160000. 180000.  85000. 200000.  95000. 105000.  70000. 100000.\n",
      "  30000. 135000. 220000. 175000. 145000. 155000.    350. 185000. 195000.\n",
      " 198000. 196000. 193000.  92000. 165000. 162000. 197000. 142000. 182000.\n",
      "    550. 210000. 122485. 169159. 187081.  78354.  90249. 132720. 127346.\n",
      " 120177. 101332. 166375. 185119. 149217. 166512.  75072. 163398. 103947.\n",
      " 175966. 152039.  76742. 139398.  95845. 160976. 126753. 139817. 114776.\n",
      " 105725.  52731. 106492.  73895. 119836.  99747. 115920. 128078.  51265.\n",
      " 165919.  55538. 104702. 172955. 138032.  82683. 155414. 107895. 148446.\n",
      " 102859. 138662. 181699.  51832. 138286. 181132.  73938. 119224. 101186.\n",
      " 142360. 151315. 181021. 134641. 173851.  98568. 104661. 134858.  94502.\n",
      " 139095. 106278.  90452. 168304. 126593. 152203. 130275.  62807. 174305.\n",
      " 133326.  75656. 155944. 137775.  51831. 182237. 151901. 100052. 167207.\n",
      " 112439.  84407. 139413. 143084. 106132. 150248. 170995.  88035. 119419.\n",
      " 173582. 174436.  71699. 163558. 144496. 122581.  79767.  89843. 113563.\n",
      " 128712. 161621. 121454.  72649.  52612. 131960. 102465. 149748. 171036.\n",
      " 146351. 107718.  90944. 100425.  63901. 181902. 136533. 136285. 176643.\n",
      "  70022.  99363. 152944. 123386. 168906.  47898. 135853. 149198. 106662.\n",
      "  89995.  85825. 143814. 150534.  68732. 187951. 137336. 102868. 154281.\n",
      " 111535. 107906. 143885. 108607.  75969. 143705. 174324. 123781. 141735.\n",
      "  61095. 179045. 130355. 103282. 157872. 117314. 129686.  68611.  68472.\n",
      " 113065. 125091. 172925. 126916.  76898.    579. 103579. 163780. 137878.\n",
      "  92438.  84181. 174821. 126520. 152168. 131547.  52807. 174938. 124071.\n",
      "  73640. 156486. 138859.  52831. 182392. 151078. 100679. 167924. 113334.\n",
      "  77606. 140010. 142421. 106686. 150729. 171652.  88552. 119918. 174985.\n",
      " 174336.  72389. 163978. 145052. 122970.  80247.  91062. 114290. 128999.\n",
      " 162454. 122354.  73218. 132442. 102828. 150301. 171468. 147326. 108267.\n",
      "  91397. 100867.  64182. 182506. 136986. 136662. 177347.  70397. 146075.\n",
      " 155795. 132638. 178684. 106218.  65840.  52779. 185038. 136449. 110707.\n",
      " 151670. 167015. 146508. 104378.  70216. 101733.  55935. 180367. 135596.\n",
      " 136062.  82944. 188288. 141090. 152726. 124141.  67556. 182768. 148727.\n",
      "  91903. 147708. 163209. 120288. 170226. 134979. 137489.  83577. 117904.\n",
      " 134482. 100151.  88678. 181285. 154990. 108204. 175684.  77766. 144647.\n",
      " 162231. 121120.  79652. 177002.  87584. 131860. 108799. 135378. 183530.\n",
      " 150901.  82697. 130356. 152560. 121432.  63789. 183690. 151310. 100358.\n",
      " 148437. 168691.  32000.  38000.  89000.  33000.  25000.  62000. 138000.\n",
      "  47000.  26000. 174000.  41000.  99000. 117000. 225000.  36000. 146000.\n",
      " 113000. 168000. 122000.  96000.  49000.  68000. 127000.  71000. 152000.\n",
      " 119000. 131000. 101000. 137000. 112000.  91000. 179000.  74000. 228000.\n",
      "  37000. 204000.  61000. 157000.  52000.  58000. 219000.  77000. 104000.\n",
      " 183000.  43000.  48000.  42000.    500.  57000.  72000.  31000. 250000.\n",
      "  28000. 215000.]\n",
      "\n",
      "\n"
     ]
    }
   ],
   "source": [
    "import pandas as pd\n",
    "\n",
    "# Assuming your DataFrame is called df\n",
    "for col in data.columns:\n",
    "    print(f\"Column: {col}\")\n",
    "    print(data[col].unique())\n",
    "    print(\"\\n\")"
   ]
  },
  {
   "cell_type": "code",
   "execution_count": 27,
   "id": "47f4ca48-5a97-4859-82aa-f09fa0137ef5",
   "metadata": {},
   "outputs": [
    {
     "name": "stdout",
     "output_type": "stream",
     "text": [
      "Overwriting app.py\n"
     ]
    }
   ],
   "source": [
    "%%writefile app.py\n",
    "import streamlit as st\n",
    "import pandas as pd\n",
    "import joblib\n",
    "from sklearn.pipeline import Pipeline\n",
    "from sklearn.compose import ColumnTransformer\n",
    "from sklearn.preprocessing import OneHotEncoder, StandardScaler\n",
    "from sklearn.ensemble import RandomForestRegressor  # for type hinting\n",
    "import numpy as np\n",
    "\n",
    "# 🔁 Recreate the preprocessor (same as training)\n",
    "categorical = ['Gender', 'Education Level', 'Job Title']\n",
    "numeric = ['Age', 'Years of Experience']\n",
    "\n",
    "preprocessor = ColumnTransformer(transformers=[\n",
    "    ('cat', OneHotEncoder(handle_unknown='ignore'), categorical),\n",
    "    ('num', StandardScaler(), numeric)\n",
    "])\n",
    "\n",
    "\n",
    "# Load the trained model\n",
    "model = joblib.load(\"best_salary_model.pkl\")\n",
    "\n",
    "st.set_page_config(page_title=\"Employee Salary Prediction\", page_icon=\"💼\", layout=\"centered\")\n",
    "\n",
    "st.title(\"💼Employee Salary Prediction App\")\n",
    "st.markdown(\"Predict the salary of an employee\")\n",
    "\n",
    "# Sidebar inputs\n",
    "st.sidebar.header(\"Input Employee Details\")\n",
    "\n",
    "age = st.sidebar.slider(\"Age\", 18, 50, 30)\n",
    "gender = st.sidebar.selectbox(\"Gender\", [\"Male\", \"Female\"])\n",
    "education = st.sidebar.selectbox(\"Education Level\", [ \"Bachelor's\", \"Master's\", \"PhD\",\"High School\"])\n",
    "job_title = st.sidebar.selectbox(\"Job Title\", [\n",
    "    \"Account Manager\", \"Accountant\", \"Administrative Assistant\", \"Back end Developer\", \"Business Analyst\",\n",
    "\"Business Development Manager\", \"Business Intelligence Analyst\", \"Chief Data Officer\", \"Content Marketing Manager\",\n",
    "\"Copywriter\", \"Creative Director\", \"Customer Service Manager\", \"Customer Service Rep\", \"Customer Service Representative\",\n",
    "\"Customer Success Manager\", \"Customer Success Rep\", \"Data Analyst\", \"Data Entry Clerk\", \"Data Scientist\", \n",
    "\"Delivery Driver\", \"Digital Content Producer\", \"Digital Marketing Manager\", \"Digital Marketing Specialist\", \n",
    "\"Director of Business Development\", \"Director of Data Science\", \"Director of Engineering\", \"Director of Finance\",\n",
    "\"Director of HR\", \"Director of Marketing\", \"Director of Operations\", \"Director of Product Management\", \"Director of Sales\",\n",
    "\"Director of Sales and Marketing\", \"Event Coordinator\", \"Financial Advisor\", \"Financial Analyst\", \"Financial Manager\",\n",
    "\"Front End Developer\", \"Front end Developer\", \"Full Stack Engineer\", \"Graphic Designer\", \"Help Desk Analyst\", \n",
    "\"HR Generalist\", \"HR Manager\", \"Human Resources Coordinator\", \"Human Resources Director\", \"Human Resources Manager\",\n",
    "\"IT Manager\", \"IT Support\", \"IT Support Specialist\", \"Juniour HR Coordinator\", \"Juniour HR Generalist\",\n",
    "\"Junior Account Manager\", \"Junior Accountant\", \"Junior Advertising Coordinator\", \"Junior Business Analyst\",\n",
    "\"Junior Business Development Associate\", \"Junior Business Operations Analyst\", \"Junior Copywriter\",\n",
    "\"Junior Customer Support Specialist\", \"Junior Data Analyst\", \"Junior Data Scientist\", \"Junior Designer\", \n",
    "\"Junior Developer\", \"Junior Financial Advisor\", \"Junior Financial Analyst\", \"Junior HR Coordinator\", \n",
    "\"Junior HR Generalist\", \"Junior Marketing Analyst\", \"Junior Marketing Coordinator\", \"Junior Marketing Manager\",\n",
    "\"Junior Marketing Specialist\", \"Junior Operations Analyst\", \"Junior Operations Coordinator\", \"Junior Operations Manager\", \n",
    "\"Junior Product Manager\", \"Junior Project Manager\", \"Junior Recruiter\", \"Junior Research Scientist\",\n",
    "\"Junior Sales Associate\", \"Junior Sales Representative\", \"Junior Social Media Manager\", \"Junior Social Media Specialist\",\n",
    "\"Junior Software Developer\", \"Junior Software Engineer\", \"Junior UX Designer\", \"Junior Web Designer\", \n",
    "\"Junior Web Developer\", \"Marketing Analyst\", \"Marketing Coordinator\", \"Marketing Director\", \"Marketing Manager\", \n",
    "\"Marketing Specialist\", \"Network Engineer\", \"Office Manager\", \"Operations Analyst\", \"Operations Director\", \"Operations Manager\",\n",
    "\"Principal Engineer\", \"Principal Scientist\", \"Product Designer\", \"Product Manager\", \"Product Marketing Manager\", \n",
    "\"Project Engineer\", \"Project Manager\", \"Public Relations Manager\", \"Receptionist\", \"Recruiter\", \"Research Director\",\n",
    "\"Research Scientist\", \"Sales Associate\", \"Sales Director\", \"Sales Executive\", \"Sales Manager\", \"Sales Operations Manager\", \n",
    "\"Sales Representative\", \"Senior Accountant\", \"Senior Account Executive\", \"Senior Account Manager\",\n",
    "\"Senior Advertising Coordinator\", \"Senior Analyst\", \"Senior Business Analyst\", \"Senior Business Development Manager\",\n",
    "\"Senior Consultant\", \"Senior Copywriter\", \"Senior Customer Service Manager\", \"Senior Data Analyst\", \"Senior Data Engineer\",\n",
    "\"Senior Data Scientist\", \"Senior Designer\", \"Senior Developer\", \"Senior Engineer\", \"Senior Financial Advisor\", \n",
    "\"Senior Financial Analyst\", \"Senior Financial Manager\", \"Senior Graphic Designer\", \"Senior HR Generalist\", \"Senior HR Manager\",\n",
    "\"Senior HR Specialist\", \"Senior Human Resources Coordinator\", \"Senior Human Resources Manager\", \"Senior Human Resources Specialist\",\n",
    "\"Senior IT Consultant\", \"Senior IT Project Manager\", \"Senior IT Support Specialist\", \"Senior Manager\", \"Senior Marketing Analyst\",\n",
    "\"Senior Marketing Coordinator\", \"Senior Marketing Director\", \"Senior Marketing Manager\", \"Senior Marketing Specialist\", \n",
    "\"Senior Operations Analyst\", \"Senior Operations Coordinator\", \"Senior Operations Manager\", \"Senior Product Designer\",\n",
    "\"Senior Product Development Manager\", \"Senior Product Manager\", \"Senior Product Marketing Manager\", \n",
    "\"Senior Project Coordinator\", \"Senior Project Engineer\", \"Senior Project Manager\", \"Senior Quality Assurance Analyst\", \n",
    "\"Senior Research Scientist\", \"Senior Researcher\", \"Senior Sales Manager\", \"Senior Sales Representative\", \n",
    "\"Senior Scientist\", \"Senior Software Architect\", \"Senior Software Developer\", \"Senior Software Engineer\", \n",
    "\"Senior Software Manager\", \"Senior Strategy Consultant\", \"Senior Training Specialist\", \"Senior UX Designer\", \n",
    "\"Social Media Man\", \"Social Media Manager\", \"Social Media Specialist\", \"Software Developer\", \"Software Engineer\",\n",
    "\"Software Engineer Manager\", \"Software Manager\", \"Software Project Manager\", \"Strategy Consultant\", \"Supply Chain Analyst\",\n",
    "\"Supply Chain Manager\", \"Technical Recruiter\", \"Technical Support Specialist\", \"Technical Writer\",\n",
    "\"Training Specialist\", \"UX Designer\", \"UX Researcher\", \"VP of Finance\", \"VP of Operations\", \"Web Developer\"\n",
    "\n",
    "])\n",
    "experience = st.sidebar.slider(\"Years of Experience\", 0, 23, 5)\n",
    "\n",
    "# Build input DataFrame\n",
    "input_df = pd.DataFrame({\n",
    "    'Age': [age],\n",
    "    'Gender': [gender],\n",
    "    'Education Level': [education],\n",
    "    'Job Title': [job_title],\n",
    "    'Years of Experience': [experience]\n",
    "})\n",
    "\n",
    "st.write(\"### 🔎 Input Data\")\n",
    "st.write(input_df)\n",
    "\n",
    "# Predict button\n",
    "if st.button(\"Predict Salary Class\"):\n",
    "    prediction = model.predict(input_df)\n",
    "    st.success(f\"✅ Prediction: {prediction[0]}\")\n",
    "\n",
    "# Batch prediction\n",
    "st.markdown(\"---\")\n",
    "st.markdown(\"#### 📂 Batch Prediction\")\n",
    "uploaded_file = st.file_uploader(\"Upload a CSV file for batch prediction\", type=\"csv\")\n",
    "\n",
    "if uploaded_file is not None:\n",
    "    batch_data = pd.read_csv(uploaded_file)\n",
    "    st.write(\"Uploaded data preview:\", batch_data.head())\n",
    "    batch_data = batch_data.dropna()\n",
    "    batch_preds = model.predict(batch_data)\n",
    "    batch_data['PredictedClass'] = batch_preds\n",
    "    st.write(\"✅ Predictions:\")\n",
    "    st.write(batch_data.head())\n",
    "    csv = batch_data.to_csv(index=False).encode('utf-8')\n",
    "    st.download_button(\"Download Predictions CSV\", csv, file_name='predicted_classes.csv', mime='text/csv')\n"
   ]
  },
  {
   "cell_type": "code",
   "execution_count": null,
   "id": "df889a9b-8d23-4b4a-8f52-799a03e9ff4e",
   "metadata": {},
   "outputs": [],
   "source": []
  }
 ],
 "metadata": {
  "kernelspec": {
   "display_name": "Python 3 (ipykernel)",
   "language": "python",
   "name": "python3"
  },
  "language_info": {
   "codemirror_mode": {
    "name": "ipython",
    "version": 3
   },
   "file_extension": ".py",
   "mimetype": "text/x-python",
   "name": "python",
   "nbconvert_exporter": "python",
   "pygments_lexer": "ipython3",
   "version": "3.12.5"
  }
 },
 "nbformat": 4,
 "nbformat_minor": 5
}
